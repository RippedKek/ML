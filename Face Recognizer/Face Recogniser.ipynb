{
 "cells": [
  {
   "cell_type": "markdown",
   "id": "7f2b57bc-053d-4399-b678-97110131321a",
   "metadata": {},
   "source": [
    "# Generate Dataset"
   ]
  },
  {
   "cell_type": "code",
   "execution_count": 8,
   "id": "390bf651-f8d7-4189-befb-4d779327cfeb",
   "metadata": {},
   "outputs": [],
   "source": [
    "import cv2"
   ]
  },
  {
   "cell_type": "code",
   "execution_count": null,
   "id": "9c6a0b93-c800-47dd-8f1c-8f60140d2c28",
   "metadata": {},
   "outputs": [],
   "source": [
    "def generate_dataset():\n",
    "    face_classifier = cv2.CascadeClassifier(cv2.data.haarcascades + 'haarcascade_frontalface_default.xml')\n",
    "\n",
    "    if face_classifier.empty():\n",
    "        print(\"Error: Unable to load Haarcascade file.\")\n",
    "        return\n",
    "\n",
    "    def face_cropped(img):\n",
    "        gray = cv2.cvtColor(img, cv2.COLOR_BGR2GRAY)\n",
    "        faces = face_classifier.detectMultiScale(gray, 1.3, 5)\n",
    "\n",
    "        if len(faces) == 0:\n",
    "            return None\n",
    "\n",
    "        for (x, y, w, h) in faces:\n",
    "            cropped_face = img[y:y+h, x:x+w]\n",
    "            return cropped_face\n",
    "\n",
    "    cap = cv2.VideoCapture(0)\n",
    "\n",
    "    if not cap.isOpened():\n",
    "        print(\"Error: Camera not accessible.\")\n",
    "        return\n",
    "\n",
    "    id = 4\n",
    "    img_id = 0\n",
    "\n",
    "    cv2.namedWindow('Cropped Face', cv2.WINDOW_NORMAL)\n",
    "    \n",
    "    while True:\n",
    "        ret, frame = cap.read()\n",
    "        \n",
    "        if not ret:\n",
    "            print(\"Failed to capture image.\")\n",
    "            break\n",
    "\n",
    "        cropped_face = face_cropped(frame)\n",
    "        \n",
    "        if cropped_face is not None:\n",
    "            img_id += 1\n",
    "            face = cv2.resize(cropped_face, (200, 200))\n",
    "            face = cv2.cvtColor(face, cv2.COLOR_BGR2GRAY)\n",
    "\n",
    "            path_name = 'C:/Users/HP/Documents/ML/Face Recognizer/data/user.' + str(id) + '.' + str(img_id) + '.jpg'\n",
    "            cv2.imwrite(path_name, face)\n",
    "\n",
    "            cv2.putText(face, str(img_id), (50, 50), cv2.FONT_HERSHEY_COMPLEX, 1, (0, 255, 0), 2)\n",
    "            cv2.imshow('Cropped Face', face)\n",
    "\n",
    "            print(f\"Saved: {path_name}\")\n",
    "\n",
    "        else:\n",
    "            print(\"No face detected.\")\n",
    "\n",
    "        if cv2.waitKey(1) == 13 or img_id == 200:\n",
    "            break\n",
    "\n",
    "    cap.release()\n",
    "    cv2.destroyAllWindows()\n",
    "\n",
    "generate_dataset()\n"
   ]
  },
  {
   "cell_type": "markdown",
   "id": "3bc61caa-8479-416e-bf4b-c090ce981d0e",
   "metadata": {},
   "source": [
    "# Train the classifier"
   ]
  },
  {
   "cell_type": "code",
   "execution_count": 8,
   "id": "71d4b3f7",
   "metadata": {},
   "outputs": [],
   "source": [
    "import numpy as np \n",
    "from PIL import Image\n",
    "import os\n",
    "import cv2"
   ]
  },
  {
   "cell_type": "code",
   "execution_count": null,
   "id": "873b5c11",
   "metadata": {},
   "outputs": [],
   "source": [
    "def train_classifier(data_dir):\n",
    "    path = [os.path.join(data_dir, f) for f in os.listdir(data_dir)]\n",
    "    faces = []\n",
    "    ids = []\n",
    "    \n",
    "    for image in path:\n",
    "        img = Image.open(image).convert('L')\n",
    "        imageNp = np.array(img, 'uint8')  \n",
    "        \n",
    "        id = int(os.path.split(image)[1].split('.')[1])\n",
    "        \n",
    "        faces.append(imageNp)\n",
    "        ids.append(id)\n",
    "    \n",
    "    ids = np.array(ids)\n",
    "    \n",
    "    clf = cv2.face.LBPHFaceRecognizer_create()\n",
    "\n",
    "    clf.train(faces, ids)\n",
    "\n",
    "    clf.write('classifier.xml')\n",
    "\n",
    "    print(\"Training complete. Model saved as 'classifier.xml'.\")\n",
    "\n",
    "train_classifier('C:\\\\Users\\\\HP\\\\Documents\\\\ML\\\\Face Recognizer\\\\data')"
   ]
  },
  {
   "cell_type": "markdown",
   "id": "56725595",
   "metadata": {},
   "source": [
    "# Detect Face"
   ]
  },
  {
   "cell_type": "code",
   "execution_count": 11,
   "id": "64ad9fcb",
   "metadata": {},
   "outputs": [],
   "source": [
    "import cv2\n",
    "import numpy as np\n",
    "from PIL import Image\n",
    "import os"
   ]
  },
  {
   "cell_type": "code",
   "execution_count": null,
   "id": "7e221ee2",
   "metadata": {},
   "outputs": [],
   "source": [
    "def draw_boundary(img, classifier, scaleFactor, minNeighbors, color, text, clf):\n",
    "    gray_image = cv2.cvtColor(img, cv2.COLOR_BGR2GRAY)\n",
    "    features = classifier.detectMultiScale(gray_image, scaleFactor, minNeighbors)\n",
    "    \n",
    "    coords = []\n",
    "    \n",
    "    for (x, y, w, h) in features:\n",
    "        cv2.rectangle(img, (x, y), (x+w, y+h), color, 2)\n",
    "        id, pred = clf.predict(gray_image[y:y+h, x+w])\n",
    "        confidence = int(100 * (1 - pred / 300))\n",
    "        \n",
    "        if confidence > 75:\n",
    "            if id == 1:\n",
    "                cv2.putText(img, 'Rohan', (x, y-5), cv2.FONT_HERSHEY_COMPLEX, 0.8, color, 1, cv2.LINE_AA)\n",
    "            elif id == 2:\n",
    "                cv2.putText(img, 'Sara', (x, y-5), cv2.FONT_HERSHEY_COMPLEX, 0.8, color, 1, cv2.LINE_AA)\n",
    "            elif id == 3:\n",
    "                cv2.putText(img, 'Jesmin', (x, y-5), cv2.FONT_HERSHEY_COMPLEX, 0.8, color, 1, cv2.LINE_AA)\n",
    "            elif id == 4:\n",
    "                cv2.putText(img, 'Sarwar', (x, y-5), cv2.FONT_HERSHEY_COMPLEX, 0.8, color, 1, cv2.LINE_AA)\n",
    "        else:\n",
    "            cv2.putText(img, 'Unknown', (x, y-5), cv2.FONT_HERSHEY_COMPLEX, 0.8, color, 1, cv2.LINE_AA)\n",
    "            \n",
    "        coords = [x, y, w, h]\n",
    "        \n",
    "    return coords\n",
    "    \n",
    "def recognize(img, clf, faceCascade):\n",
    "    coords = draw_boundary(img, faceCascade, 1.1, 10, (255, 255, 255), 'Face', clf)\n",
    "    return img\n",
    "\n",
    "faceCascade = face_classifier = cv2.CascadeClassifier(cv2.data.haarcascades + 'haarcascade_frontalface_default.xml')\n",
    "clf = cv2.face.LBPHFaceRecognizer_create()\n",
    "clf.read('C:\\\\Users\\\\HP\\\\Documents\\\\ML\\\\Face Recognizer\\\\classifier.xml')\n",
    "\n",
    "video_capture = cv2.VideoCapture(0)\n",
    "while True:\n",
    "    ret, img = video_capture.read()\n",
    "    img = recognize(img, clf, faceCascade)\n",
    "    cv2.imshow('Face Detection', img)\n",
    "    \n",
    "    if cv2.waitKey(1) == 13:\n",
    "        break\n",
    "video_capture.release()\n",
    "cv2.destroyAllWindows()"
   ]
  }
 ],
 "metadata": {
  "kernelspec": {
   "display_name": "Python 3",
   "language": "python",
   "name": "python3"
  },
  "language_info": {
   "codemirror_mode": {
    "name": "ipython",
    "version": 3
   },
   "file_extension": ".py",
   "mimetype": "text/x-python",
   "name": "python",
   "nbconvert_exporter": "python",
   "pygments_lexer": "ipython3",
   "version": "3.13.0"
  }
 },
 "nbformat": 4,
 "nbformat_minor": 5
}
